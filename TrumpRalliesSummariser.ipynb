{
 "cells": [
  {
   "cell_type": "code",
   "execution_count": 6,
   "metadata": {},
   "outputs": [],
   "source": [
    "import os \n",
    "import matplotlib.pyplot as plt\n",
    "import pandas as pd\n",
    "import numpy as np\n",
    "import spacy\n",
    "from spacy.lang.en.stop_words import STOP_WORDS\n",
    "from string import punctuation\n",
    "stop_words = list(STOP_WORDS)\n",
    "punctuation += '\\n'\n",
    "from heapq import nlargest"
   ]
  },
  {
   "cell_type": "code",
   "execution_count": 7,
   "metadata": {},
   "outputs": [],
   "source": [
    "class Summarizer():\n",
    "    def __init__(self, path=None, corpus=None):\n",
    "        self.mCorpus = ''\n",
    "        self.mWordFrequencies = {}\n",
    "        self.mSentScore = {}\n",
    "        self.mNumSentences = 0\n",
    "\n",
    "        if path != None:\n",
    "            file = open(path, 'r')\n",
    "            self.mCorpus = self.mCorpus + file.read()\n",
    "        elif corpus != None:\n",
    "            self.mCorpus = corpus\n",
    "        \n",
    "        self.mNlp = spacy.load('en_core_web_sm')\n",
    "        self.mDoc = self.mNlp(self.mCorpus)\n",
    "    \n",
    "\n",
    "    def PrintCorpus(self):\n",
    "        print(self.mCorpus)\n",
    "    \n",
    "\n",
    "    def WordFrequencyCalculator(self):\n",
    "        for word in self.mDoc:\n",
    "            wordInLowerCase = word.text.lower()\n",
    "            if(wordInLowerCase not in stop_words) and (wordInLowerCase not in punctuation):\n",
    "                if wordInLowerCase not in self.mWordFrequencies.keys():\n",
    "                    self.mWordFrequencies[wordInLowerCase] = 1\n",
    "                else:\n",
    "                    self.mWordFrequencies[wordInLowerCase] += 1 \n",
    "        return \n",
    "    \n",
    "\n",
    "    def WordFreqNormalizer(self):\n",
    "        maxFreq = max(self.mWordFrequencies.values())\n",
    "\n",
    "        for word in self.mWordFrequencies.keys():\n",
    "            self.mWordFrequencies[word] = self.mWordFrequencies[word] / maxFreq\n",
    "        return\n",
    "    \n",
    "    \n",
    "    def CalculateSentenceScore(self):\n",
    "        sentences = [sent for sent in self.mDoc.sents]\n",
    "        self.mNumSentences = len(sentences)\n",
    "\n",
    "        for sent in sentences:\n",
    "            for word in sent:\n",
    "                wordInLowerCase = word.text.lower()\n",
    "\n",
    "                if wordInLowerCase in self.mWordFrequencies.keys():\n",
    "                    if sent not in self.mSentScore.keys():\n",
    "                        self.mSentScore[sent] = self.mWordFrequencies[wordInLowerCase]\n",
    "                    else:\n",
    "                        self.mSentScore[sent] += self.mWordFrequencies[wordInLowerCase]\n",
    "        return\n",
    "    \n",
    "\n",
    "    def SummarizeText(self, fractionToReduce=0.25):\n",
    "        self.WordFrequencyCalculator()\n",
    "        self.WordFreqNormalizer()\n",
    "        self.CalculateSentenceScore()\n",
    "\n",
    "        reducedSentNum = int(self.mNumSentences * fractionToReduce)\n",
    "        print('Total Number of Sentences: {}'.format(self.mNumSentences))\n",
    "        print('Number of sentences in Summary: {}'.format(reducedSentNum))\n",
    "        print('Summary: \\n')\n",
    "\n",
    "        summaryList = nlargest(reducedSentNum, self.mSentScore, key=self.mSentScore.get)\n",
    "        for sentence in summaryList:\n",
    "            print(sentence, end=' ')\n"
   ]
  },
  {
   "cell_type": "code",
   "execution_count": 8,
   "metadata": {},
   "outputs": [
    {
     "name": "stdout",
     "output_type": "stream",
     "text": [
      "Printing Summary for BattleCreekDec19\n",
      "\n",
      "Total Number of Sentences: 2059\n",
      "Number of sentences in Summary: 205\n",
      "Summary: \n",
      "\n",
      "From St. Paul to St. Cloud, from Rochester to Duluth, and from Minneapolis, thank God we still have Minneapolis, to right here, right here with all of you great people, this state was pioneered by men and women who braved the wilderness and the winters to build a better life for themselves and for their families. All the guys that got it right, that really got it right, they all got it wrong, totally wrong. But they did it, and we've done a great job and the people of that great state, they understand it, and I just hope the people of your state of Minnesota understand it because we don't have too many more chances with this stuff. A friend of mine said, \"You know, two years ago you said, next will be Robert E. Lee and then comes Washington. Minnesota is going to keep on winning and you're going to get tired of winning because Minnesota doesn't want to win all the time. But they should give the Pulitzer prize to the people that got it right and they should withdraw from all of those writers, many of whom are back there right now, all of those writers, they should do that. And he said, \"I don't know too much about a lot, but I know one thing. And I said to my people four months ago, I said, \"This is crazy. When somebody has to rely on winning because of somebody as opposed to winning because people love you, people respect you â€¦ And Sean Hannity did something the other night. And you know he's got a lot of people that are deep staters, whatever you want to call them. When Biden goes, \"Oh, they should have closed one week earlier\", and here's the guy that said I made a mistake when I banned China that nothing's going to happen. With your help, your devotion and your drive, we are going to keep on working, we're going to keep on fighting, and we are going to keep on winning, winning, winning. We're rounding it with or without, but we're going to have with, but you know, with his better, but with or without, we're rounding that corner, and we're rounding it fast and they don't want to give us any credit because they want to keep this up 'til November 4th. I haven't said it in a long time because we've been doing a lot of winning, but you're going to win so much. Tucker was great, but these are all people that got it right. And I said that a couple of weeks ago, remember I said, \"We have created the most powerful weapons known to man.\" So I'm in Texas and I said to the crowd, it was a great crowd, and we must have had a hundred thousand people on the road, on the highways and roadways waving. And together with the incredible people of Minnesota, and you know what's going to be operating at strength? 46 days from now, we're going to win Minnesota, and we're going to win four more years in the White House. Check out Omar, check out Omar, get to that great writer, he should getâ€¦ Oh, so the New York Times won all these Pulitzer prizes, right? They say, \"Trump\" â€¦ Remember four years ago, they used to say, \"Oh, Trump will get rid of Social\" â€¦ I have protected your Social Security. So I said to the general, I said, \"General, 5.7 billion, not million, billion. You know I came to Washington â€¦ Think of it, think of it. Remember about a month ago, two months ago, they broke into the demilitarized zone and they said, \"Oh, he's going to attack.\" We're going to keep on going, Jason, we're going to keep on winning. Two weeks ago I said, \"We have the finest, the best, the most incredible, sadly, the most deadly, and we never want to use it, but we have the greatest weapons ever in history by a factor of 10, by a factor of 10.\" But in your case, we went, and all of a sudden, it was really â€¦ That was going to be a bad night, too, right? In fact, I went to my wife I said, \"You know, they say I have the greatest political instincts in over a hundred years.\" Somebody said, \"Oh, well he got a bit because he was good with negotiating with these other countries.\" I call him O-Biden, it's too long to say Obama and Biden, so I just go, O-Biden, because I don't care aboutâ€¦ Everyone said, \"Oh no, he's in trouble. I said, \"Bring that sucker up immediately to the Oval Office because there are a lot of people coming to Washington.\" So I look at a crowd and whether I have good instinct or not, this is not the crowd of somebody that's going to finish second in the state to a Sleepy Joe. And the only one I could think of is Ted, because he's going to get 50 Republican votes and he's going to get 50 Democrat votes. People said, \"He has a good relationship with Kim Jong Un, that's terrible.\" All these Pulitzer prizes, these people, and they all got it wrong, right? They don't â€¦ You've got a lot of people here. We interviewed 233 people, I got thousands of people at least for free. We've got many people in jail right now from before nobody even talked about taking statues down. Just like I was saying before, Texas, they don't want God, they don't want oil, they don't want guns. You know the amazing thing, all of these writers, New York Times, Washington Post, right? But you think about it, and he said, \"If only Trump moved faster,\" but he's the one that two months later called me xenophobic, and he called me a racist because I was banning China, which was heavily infected. I could right now be having a very beautiful life of luxury, and here I am at the hangar in Minnesota with 15 or 20 or 25,000 people. I said, \"No, we got to really think about canceling it.\" And you're going to get so tired you're going to say, \"Jason, Jason, please, please Jason, go to the president. We're not used to it because we went through years and years and years where it was tough\", right? And the next day they said, \"Well, we were going to save it for Saturday night.\" So to have these four or five circles, they put people, that way he doesn't have to be embarrassed when he goes to a high school gymnasium and he has 40, 50 people. It's 31 years old and other people didn't want to do it, but it was time to get a new one. Standing on a grave of a fallen soldier, and then they had some guy, a source said â€¦ There's no source. He said \"From that day the people love her. Oh, I think I'm going to vote for Joe Biden, everybody.\" Russia doesn't want â€¦ Maybe North Korea does because I actually have a very good relationship with him. And I'm going to look at Jason, I'm going to say, \"No, Jason, I'm sorry. That's what you are, and a lot of people haven't been treated right until I came along. When they said, no, we just said, \"We'll take it off TiVo. They got that crew cut, they got the crap under their eyes, they got the whole deal. He said, \"Because you're the best candidate we could everâ€¦\" I love this guy. Your football team is going to win in the big 10 they say, right? And this guy is going to win Texas by a hell of a lot of votes.\" Put a lot of guys â€¦ Great Congressman, by the way. And I said, \"No way they got worse. And now with the phones, I think there's like 22 or 24 people. He's got like four people in a circle. I think of a 31 years old, Air Force One is 31 years old, the main Air Force One, not this. You're going to win on trade, you're going to win on the military. Nah, I was going to, I was going to say, \"How did that work out, Joe? Every family in Minnesota needs to know about sleepy Joe Biden's extreme plan to flood your state with an influx of refugees from Somalia, from other places all over the planet. But I even said, \"I'm putting Ted Cruz as one of the people for the Supreme Court.\" They were going to March on Washington and they were going to rip down a statue of Abraham Lincoln. And thank heavens for ICE, and thank heavens for border patrol because these people do a job that you don't want. We've got a little setback with this whole situation where these shutdowns cause a lot of problems with drugs, a lot of everything, but drugs were way down. Mr. Vice President, I'd like to know your feeling on nuclear warfare and how does that relate to China and Russia and where are they in the race? You're going to be stuck for 40 years, 35 years, a long time. But Ali Velshi, I don't know anything about the guy, but I know he was standing there. They're sick and evil people and they want bad things for our country and they don't report the news. And I like Tom cruise by the way, because you can't get much better than Top Gun, right? I think that just disrespected the people of Minnesota today, they gave us the little one. The people of Minnesota want to win, you're wrong, Jason. Somebody said \"Trump has the greatest political instincts of the last 100 years.\" The good thing about these beautiful Air Force Ones, right? They moved them aside, and they just walked right to â€¦ It was the most beautiful thing, and that would be it. I'm glad that at least you got a good location, right? And they said it four years ago, \"Texas is in play. So I said, \"General, don't give them notice because I don't want to write a check for 250 and getting nothing. A general came, and an air force general, great guy, handsome guy. I said, \"Do you have the right to cancel it?\" He said he's going to close it. And he said, \"Sir, you gave our life back to us because Obama took our heart out when he closed up the Iron Range.\" I said to myself, \"I'm going to stay uninvolved. And some schmuck back there said, \"I think he's given away classified information.\" They said, \"It's a smattering of people.\" You know the problem with Minnesota is that I think since 1972, this hasn't been won by a Republican. He said, \"Nope, Abraham Lincoln got the worst press. And the old act said, if you rip down a monument or a statue, you get 10 years in prison. They said, \"This is very embarrassing,\" one of his people, and that's what they do. They said he didn't lie, right? Years ago, I said to a certain senator who I was very friendly with, a Democrat, \"Who's the dumbest senator? I had many, many years, decades of people putting â€¦ The day I did it, and Tom was there, a man, I don't know who he is, he's probably in this massive audience, but he came up to me and he was a rough guy and he never cried in his life, including at childbirth. But I'm thrilled to be here with the beautiful, great, hardworking people of this incredible state. He said to this man, \"If you owned a McDonald's hamburger stand in a reasonably busy area, would you have Joe Biden running that stand?\" And you know if I was wrong, they would, but they can't question me because when you see right to try, we took care of our vets. He said, \"I think you're winning by 15 points.\" But you're getting used to winning and you're going to see winning like you've never seen before. And New York people are going to do it. But I said, \"You know. But you have a lot of groups of people just like this, every place we go. So I said, \"So captain, let me ask you, how good is the F-35?\" We've done a lot of work and a lot of good work, and you had your best year ever last year. Enjoy yourselves, because if I'm not here, if I don't win, I don't know where I'm going to be. You ever see him standing with the two million men walking in front, everybody's the same height, they're wearing hats, everyone's like a pool table, right? They think everything's going to run by wind, which costs you a fortune, about 20 times more than what we have and doesn't work. But you remember it was going to be a nuclear war, and I got along with him. Then they just started walking faster, faster, faster, put a lot of guys in jail, Tom, right? But they don't know quite what we have, but they know we have stuff that they never even heard of before. If I lose Minnesota, if I lose Minnesota, Jason, I'm going to blame Jason if I lose. Joe's got nothing going. We got choice approved, we got accountability approved, drugs are way down. And I never get the right answer because there are people down deep. And I said, \"Oh, that's good. I said, \"Oh good. You know, every single police force I think endorsed me. I said, \"That sounds great. We did great four years ago, big, big win. H1N1, that's right, Joe. Remember that Joe, H1N1. We love this country, and we're not going to let radical Left socialist/communists take over our country. I don't think they're going to do too well in Minnesota either. It's a criminal act you know that, right? But these guys all got it right. They're going to have 25,000 people. I said, \"How are we doing compared to four years ago?\" So, you know he was against the ban, right? And I said, \"No, I don't think so.\" Politicians that got elected as democrats, I don't think they changed their party affiliation, but they endorsed Trump. And then somebody says, \"You know it's 10 years in jail.\" I say, \"You know, we spent $20 million, I sell like two commercials.\" He said, \"I'd like to endorse you.\" I said, \"No, I want him to campaign because he brings out the base.\" So after about four days they couldn't ask because I gave nothing except I gave heart because I don't want to see people killed on their side either. Actually under price transparency, the good hospitals and the good doctors benefit tremendously, but the bad ones don't, and you have price transparency. If Biden's elected, extremists, like representative Ilhan Omar â€¦ Whatever happened to her? And don't forget, you went through years where you weren't winning, right? You know that, right? \"They're really good Sir, best plane we've ever had all great.\" You know that, right? I said, \"Oh, that's only one guy.\" I had nice guy, Dr. Fauci, I had another nice, got a lot of doctors. I don't think they're going to do too well in Texas. And it comes under, it's like a corkscrew right at the bottom of the plane.\" You've got to go out and you've got to vote for Trump. I said, let Mike buy our commercials. But they got the prize, right? I came to Washington and I had 24 years of putting people in office. Remember what I told you about those weapons, we don't want to use ever, we don't want to use those weapons. Then sometimes you have Democrats running an airport, and they don't like all these people here. I said, \"No, that's good.\" Then after we won, he said, \"I'd love to be attorney general.\" He's got the whole deal, pepper spray, got everything, the finest outfit you can buy. He said, \"Sir, you're doing much better.\" And so they all said, \"No, no, we're all againstâ€¦ everyone's against fracking. I said, \"Yeah, and I've done it for four years. But I get off the plane and they said, \"He's in Minnesota. She was the one that brought it up, and then he goes, \"Ladies and gentlemen, I'd like to pickâ€¦ Wait a minute, let me get her name here. So I said, \"Okay, let's give her five or six each.\" They got for Russia, Russia, Russia. And I go before these crazy people, they're screaming like maniacs. I think he's not going to put up with this stuff. He said, \"Sir, should I use turn the sucker off? You've got to see what they look like. You got to get it right. He said, \"They put together the greatest field ever assembled, the Republicans, remember? Only by voting for me are you going to say â€¦ Did anyone ever hear â€¦ With an N, not an M. Con like a con job. You think of that as almost an ancient kind of a crime, right? Onstage with all these crazy people and they don't want any energy. It's like blackmail money, right? It's with a comma, like a comma, right? I got to know him very well. The only thing you're allowed to do is run wild through the streets, burn down storefronts, blow up stores, and kill people, because that's considered a protest, and that, they allow you to have. People forgot how good he was as a man. This is a great plane, but the big one 31 years old. It sounds like a lot of money to me, General, 5.7 million for two airplanes. Sleepy Joe is going to take your guns away. My great instincts, right? And that wall is going up, think of that. But said \"From the day you came down the escalator with our First Lady. Or you wouldn't have that great statue on the horse of a great general. We've heard that for a long time, in play, right? They're great people. Put a lot of people in jail that shouldn't be in jail, Weissman. In fact, when we landed, they said, \"Sir, we have a very short runway, could you please hold on? My people would say, \"I don't think so.\" I don't think it works for me, right? They only had like 32 people. Then they said, \"Trump made a terrible deal. I know Mike doesn't want it. I think we're going to have a winner here. I think he just wanted to get even with you, I don't know. I heard the first one, I said, \"Oh, they must've made a mistake.\" I don't think so, right? I don't think so, right? But the one thing I said is- He said chicken many, many times, and it was a little strange that I thought it was over and he pulled it back. But they said Texas is in play. And I'd go around telling my people, \"Damn it, Texas is in play, how the hell? \n",
      "\n"
     ]
    }
   ],
   "source": [
    "path = 'C:\\MyProjects\\Trump_Rallies\\Speeches\\BemidjiSep18_2020.txt'\n",
    "print('Printing Summary for {}\\n'.format('BattleCreekDec19'))\n",
    "summarizer = Summarizer(path=path)\n",
    "summarizer.SummarizeText(fractionToReduce=0.1)\n",
    "print('\\n')"
   ]
  },
  {
   "cell_type": "code",
   "execution_count": null,
   "metadata": {},
   "outputs": [],
   "source": []
  },
  {
   "cell_type": "code",
   "execution_count": null,
   "metadata": {},
   "outputs": [],
   "source": []
  }
 ],
 "metadata": {
  "kernelspec": {
   "display_name": "Python 3",
   "language": "python",
   "name": "python3"
  },
  "language_info": {
   "codemirror_mode": {
    "name": "ipython",
    "version": 3
   },
   "file_extension": ".py",
   "mimetype": "text/x-python",
   "name": "python",
   "nbconvert_exporter": "python",
   "pygments_lexer": "ipython3",
   "version": "3.10.8"
  },
  "orig_nbformat": 4
 },
 "nbformat": 4,
 "nbformat_minor": 2
}
